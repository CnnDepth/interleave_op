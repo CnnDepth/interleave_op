{
 "cells": [
  {
   "cell_type": "code",
   "execution_count": 1,
   "metadata": {},
   "outputs": [],
   "source": [
    "import tensorflow as tf\n",
    "import numpy as np\n",
    "\n",
    "mod = tf.load_op_library('./interleave_kernels.so')\n",
    "tf.logging.set_verbosity( tf.logging.INFO )"
   ]
  },
  {
   "cell_type": "code",
   "execution_count": 2,
   "metadata": {},
   "outputs": [],
   "source": [
    "config = tf.ConfigProto(log_device_placement = True)\n",
    "config.graph_options.optimizer_options.opt_level = -1"
   ]
  },
  {
   "cell_type": "code",
   "execution_count": 3,
   "metadata": {},
   "outputs": [],
   "source": [
    "in1_np = np.ones((8, 3, 3, 3))\n",
    "in1_np[:, :, :, 1] *= 10\n",
    "in1_np[:, :, :, 2] *= 100\n",
    "in2_np = np.ones((8, 3, 3, 3)) * 2\n",
    "in2_np[:, :, :, 1] *= 10\n",
    "in2_np[:, :, :, 2] *= 100\n",
    "in3_np = np.ones((8, 3, 3, 3)) * 3\n",
    "in3_np[:, :, :, 1] *= 10\n",
    "in3_np[:, :, :, 2] *= 100\n",
    "in4_np = np.ones((8, 3, 3, 3)) * 4\n",
    "in4_np[:, :, :, 1] *= 10\n",
    "in4_np[:, :, :, 2] *= 100"
   ]
  },
  {
   "cell_type": "code",
   "execution_count": 4,
   "metadata": {},
   "outputs": [],
   "source": [
    "with tf.device('/gpu:0'):\n",
    "    in1 = tf.constant(in1_np)\n",
    "    in2 = tf.constant(in2_np)\n",
    "    in3 = tf.constant(in3_np)\n",
    "    in4 = tf.constant(in4_np)\n",
    "    finish_gpu = mod.interleave(in1, in2, in3, in4)"
   ]
  },
  {
   "cell_type": "code",
   "execution_count": 6,
   "metadata": {},
   "outputs": [],
   "source": [
    "sess = tf.Session(config=config)\n",
    "f_gpu = sess.run(finish_gpu)"
   ]
  },
  {
   "cell_type": "code",
   "execution_count": 9,
   "metadata": {},
   "outputs": [
    {
     "data": {
      "text/plain": [
       "array([[1., 2., 1., 2., 1., 2.],\n",
       "       [3., 4., 3., 4., 3., 4.],\n",
       "       [1., 2., 1., 2., 1., 2.],\n",
       "       [3., 4., 3., 4., 3., 4.],\n",
       "       [1., 2., 1., 2., 1., 2.],\n",
       "       [3., 4., 3., 4., 3., 4.]])"
      ]
     },
     "execution_count": 9,
     "metadata": {},
     "output_type": "execute_result"
    }
   ],
   "source": [
    "f_gpu[0, :, :, 0]"
   ]
  },
  {
   "cell_type": "code",
   "execution_count": null,
   "metadata": {},
   "outputs": [],
   "source": []
  }
 ],
 "metadata": {
  "kernelspec": {
   "display_name": "CNN_VSLAM",
   "language": "python",
   "name": "cnn_vslam"
  },
  "language_info": {
   "codemirror_mode": {
    "name": "ipython",
    "version": 2
   },
   "file_extension": ".py",
   "mimetype": "text/x-python",
   "name": "python",
   "nbconvert_exporter": "python",
   "pygments_lexer": "ipython2",
   "version": "2.7.15"
  }
 },
 "nbformat": 4,
 "nbformat_minor": 2
}
